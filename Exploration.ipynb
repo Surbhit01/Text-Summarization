{
 "cells": [
  {
   "cell_type": "code",
   "execution_count": 3,
   "metadata": {},
   "outputs": [],
   "source": [
    "import spacy\n",
    "from spacy.lang.en.stop_words import STOP_WORDS\n",
    "from string import punctuation"
   ]
  },
  {
   "cell_type": "code",
   "execution_count": 53,
   "metadata": {},
   "outputs": [],
   "source": [
    "text = \"\"\"\n",
    "India, officially the Republic of India is a country in South Asia. It is the seventh-largest country by area; the most populous country as of June 2023;and from the time of its independence in 1947, the world's most populous democracy. Bounded by the Indian Ocean on the south, the Arabian Sea on the southwest, and the Bay of Bengal on the southeast, it shares land borders with Pakistan to the west;j China, Nepal, and Bhutan to the north; and Bangladesh and Myanmar to the east. In the Indian Ocean, India is in the vicinity of Sri Lanka and the Maldives; its Andaman and Nicobar Islands share a maritime border with Thailand, Myanmar, and Indonesia.\n",
    "\n",
    "Modern humans arrived on the Indian subcontinent from Africa no later than 55,000 years ago.Their long occupation, initially in varying forms of isolation as hunter-gatherers, has made the region highly diverse, second only to Africa in human genetic diversity.Settled life emerged on the subcontinent in the western margins of the Indus river basin 9,000 years ago, evolving gradually into the Indus Valley Civilisation of the third millennium BCE. By 1200 BCE, an archaic form of Sanskrit, an Indo-European language, had diffused into India from the northwest. Its evidence today is found in the hymns of the Rigveda. Preserved by an oral tradition that was resolutely vigilant, the Rigveda records the dawning of Hinduism in India. The Dravidian languages of India were supplanted in the northern and western regions. By 400 BCE, stratification and exclusion by caste had emerged within Hinduism, and Buddhism and Jainism had arisen, proclaiming social orders unlinked to heredity. Early political consolidations gave rise to the loose-knit Maurya and Gupta Empires based in the Ganges Basin. Their collective era was suffused with wide-ranging creativity,but also marked by the declining status of women, and the incorporation of untouchability into an organised system of belief. In South India, the Middle kingdoms exported Dravidian-languages scripts and religious cultures to the kingdoms of Southeast Asia.\n",
    "\"\"\""
   ]
  },
  {
   "cell_type": "code",
   "execution_count": 54,
   "metadata": {},
   "outputs": [],
   "source": [
    "stopwords = list(STOP_WORDS)"
   ]
  },
  {
   "cell_type": "code",
   "execution_count": 55,
   "metadata": {},
   "outputs": [],
   "source": [
    "nlp = spacy.load('en_core_web_sm')"
   ]
  },
  {
   "cell_type": "code",
   "execution_count": 56,
   "metadata": {},
   "outputs": [],
   "source": [
    "doc = nlp(text)"
   ]
  },
  {
   "cell_type": "code",
   "execution_count": 57,
   "metadata": {},
   "outputs": [],
   "source": [
    "tokens = [token.text for token in doc]"
   ]
  },
  {
   "cell_type": "code",
   "execution_count": 58,
   "metadata": {},
   "outputs": [
    {
     "name": "stdout",
     "output_type": "stream",
     "text": [
      "!\"#$%&'()*+,-./:;<=>?@[\\]^_`{|}~/n/n/n\n"
     ]
    }
   ],
   "source": [
    "#Adding new line to the punctutions to remove\n",
    "punctuation += \"/n\"\n",
    "print(punctuation)"
   ]
  },
  {
   "cell_type": "code",
   "execution_count": 66,
   "metadata": {},
   "outputs": [],
   "source": [
    "word_frequencies = {}\n",
    "\n",
    "for word in doc:\n",
    "    if word.text.lower() not in stopwords and word.text.lower() not in punctuation:\n",
    "        if word.text not in word_frequencies.keys():\n",
    "            word_frequencies[word.text] = 1\n",
    "        else:\n",
    "            word_frequencies[word.text] += 1\n"
   ]
  },
  {
   "cell_type": "code",
   "execution_count": 67,
   "metadata": {},
   "outputs": [
    {
     "name": "stdout",
     "output_type": "stream",
     "text": [
      "Max frequency = 7\n"
     ]
    }
   ],
   "source": [
    "max_frequency = max(word_frequencies.values())\n",
    "print(f\"Max frequency = {max_frequency}\")"
   ]
  },
  {
   "cell_type": "code",
   "execution_count": 69,
   "metadata": {},
   "outputs": [
    {
     "data": {
      "text/plain": [
       "{'\\n': 2,\n",
       " 'India': 7,\n",
       " 'officially': 1,\n",
       " 'Republic': 1,\n",
       " 'country': 3,\n",
       " 'South': 2,\n",
       " 'Asia': 2,\n",
       " 'seventh': 1,\n",
       " 'largest': 1,\n",
       " 'area': 1,\n",
       " 'populous': 2,\n",
       " 'June': 1,\n",
       " '2023;and': 1,\n",
       " 'time': 1,\n",
       " 'independence': 1,\n",
       " '1947': 1,\n",
       " 'world': 1,\n",
       " 'democracy': 1,\n",
       " 'Bounded': 1,\n",
       " 'Indian': 3,\n",
       " 'Ocean': 2,\n",
       " 'south': 1,\n",
       " 'Arabian': 1,\n",
       " 'Sea': 1,\n",
       " 'southwest': 1,\n",
       " 'Bay': 1,\n",
       " 'Bengal': 1,\n",
       " 'southeast': 1,\n",
       " 'shares': 1,\n",
       " 'land': 1,\n",
       " 'borders': 1,\n",
       " 'Pakistan': 1,\n",
       " 'west;j': 1,\n",
       " 'China': 1,\n",
       " 'Nepal': 1,\n",
       " 'Bhutan': 1,\n",
       " 'north': 1,\n",
       " 'Bangladesh': 1,\n",
       " 'Myanmar': 2,\n",
       " 'east': 1,\n",
       " 'vicinity': 1,\n",
       " 'Sri': 1,\n",
       " 'Lanka': 1,\n",
       " 'Maldives': 1,\n",
       " 'Andaman': 1,\n",
       " 'Nicobar': 1,\n",
       " 'Islands': 1,\n",
       " 'share': 1,\n",
       " 'maritime': 1,\n",
       " 'border': 1,\n",
       " 'Thailand': 1,\n",
       " 'Indonesia': 1,\n",
       " '\\n\\n': 1,\n",
       " 'Modern': 1,\n",
       " 'humans': 1,\n",
       " 'arrived': 1,\n",
       " 'subcontinent': 2,\n",
       " 'Africa': 2,\n",
       " 'later': 1,\n",
       " '55,000': 1,\n",
       " 'years': 2,\n",
       " 'ago': 2,\n",
       " 'long': 1,\n",
       " 'occupation': 1,\n",
       " 'initially': 1,\n",
       " 'varying': 1,\n",
       " 'forms': 1,\n",
       " 'isolation': 1,\n",
       " 'hunter': 1,\n",
       " 'gatherers': 1,\n",
       " 'region': 1,\n",
       " 'highly': 1,\n",
       " 'diverse': 1,\n",
       " 'second': 1,\n",
       " 'human': 1,\n",
       " 'genetic': 1,\n",
       " 'diversity': 1,\n",
       " 'Settled': 1,\n",
       " 'life': 1,\n",
       " 'emerged': 2,\n",
       " 'western': 2,\n",
       " 'margins': 1,\n",
       " 'Indus': 2,\n",
       " 'river': 1,\n",
       " 'basin': 1,\n",
       " '9,000': 1,\n",
       " 'evolving': 1,\n",
       " 'gradually': 1,\n",
       " 'Valley': 1,\n",
       " 'Civilisation': 1,\n",
       " 'millennium': 1,\n",
       " 'BCE': 3,\n",
       " '1200': 1,\n",
       " 'archaic': 1,\n",
       " 'form': 1,\n",
       " 'Sanskrit': 1,\n",
       " 'Indo': 1,\n",
       " 'European': 1,\n",
       " 'language': 1,\n",
       " 'diffused': 1,\n",
       " 'northwest': 1,\n",
       " 'evidence': 1,\n",
       " 'today': 1,\n",
       " 'found': 1,\n",
       " 'hymns': 1,\n",
       " 'Rigveda': 2,\n",
       " 'Preserved': 1,\n",
       " 'oral': 1,\n",
       " 'tradition': 1,\n",
       " 'resolutely': 1,\n",
       " 'vigilant': 1,\n",
       " 'records': 1,\n",
       " 'dawning': 1,\n",
       " 'Hinduism': 2,\n",
       " 'Dravidian': 2,\n",
       " 'languages': 2,\n",
       " 'supplanted': 1,\n",
       " 'northern': 1,\n",
       " 'regions': 1,\n",
       " '400': 1,\n",
       " 'stratification': 1,\n",
       " 'exclusion': 1,\n",
       " 'caste': 1,\n",
       " 'Buddhism': 1,\n",
       " 'Jainism': 1,\n",
       " 'arisen': 1,\n",
       " 'proclaiming': 1,\n",
       " 'social': 1,\n",
       " 'orders': 1,\n",
       " 'unlinked': 1,\n",
       " 'heredity': 1,\n",
       " 'Early': 1,\n",
       " 'political': 1,\n",
       " 'consolidations': 1,\n",
       " 'gave': 1,\n",
       " 'rise': 1,\n",
       " 'loose': 1,\n",
       " 'knit': 1,\n",
       " 'Maurya': 1,\n",
       " 'Gupta': 1,\n",
       " 'Empires': 1,\n",
       " 'based': 1,\n",
       " 'Ganges': 1,\n",
       " 'Basin': 1,\n",
       " 'collective': 1,\n",
       " 'era': 1,\n",
       " 'suffused': 1,\n",
       " 'wide': 1,\n",
       " 'ranging': 1,\n",
       " 'creativity': 1,\n",
       " 'marked': 1,\n",
       " 'declining': 1,\n",
       " 'status': 1,\n",
       " 'women': 1,\n",
       " 'incorporation': 1,\n",
       " 'untouchability': 1,\n",
       " 'organised': 1,\n",
       " 'system': 1,\n",
       " 'belief': 1,\n",
       " 'Middle': 1,\n",
       " 'kingdoms': 2,\n",
       " 'exported': 1,\n",
       " 'scripts': 1,\n",
       " 'religious': 1,\n",
       " 'cultures': 1,\n",
       " 'Southeast': 1}"
      ]
     },
     "execution_count": 69,
     "metadata": {},
     "output_type": "execute_result"
    }
   ],
   "source": [
    "word_frequencies"
   ]
  },
  {
   "cell_type": "markdown",
   "metadata": {},
   "source": [
    "Dividing by max frequency to normalize values."
   ]
  },
  {
   "cell_type": "code",
   "execution_count": 70,
   "metadata": {},
   "outputs": [],
   "source": [
    "for word in word_frequencies.keys():\n",
    "    word_frequencies[word] = round(word_frequencies[word]/max_frequency,2)"
   ]
  },
  {
   "cell_type": "code",
   "execution_count": 71,
   "metadata": {},
   "outputs": [
    {
     "data": {
      "text/plain": [
       "{'\\n': 0.29,\n",
       " 'India': 1.0,\n",
       " 'officially': 0.14,\n",
       " 'Republic': 0.14,\n",
       " 'country': 0.43,\n",
       " 'South': 0.29,\n",
       " 'Asia': 0.29,\n",
       " 'seventh': 0.14,\n",
       " 'largest': 0.14,\n",
       " 'area': 0.14,\n",
       " 'populous': 0.29,\n",
       " 'June': 0.14,\n",
       " '2023;and': 0.14,\n",
       " 'time': 0.14,\n",
       " 'independence': 0.14,\n",
       " '1947': 0.14,\n",
       " 'world': 0.14,\n",
       " 'democracy': 0.14,\n",
       " 'Bounded': 0.14,\n",
       " 'Indian': 0.43,\n",
       " 'Ocean': 0.29,\n",
       " 'south': 0.14,\n",
       " 'Arabian': 0.14,\n",
       " 'Sea': 0.14,\n",
       " 'southwest': 0.14,\n",
       " 'Bay': 0.14,\n",
       " 'Bengal': 0.14,\n",
       " 'southeast': 0.14,\n",
       " 'shares': 0.14,\n",
       " 'land': 0.14,\n",
       " 'borders': 0.14,\n",
       " 'Pakistan': 0.14,\n",
       " 'west;j': 0.14,\n",
       " 'China': 0.14,\n",
       " 'Nepal': 0.14,\n",
       " 'Bhutan': 0.14,\n",
       " 'north': 0.14,\n",
       " 'Bangladesh': 0.14,\n",
       " 'Myanmar': 0.29,\n",
       " 'east': 0.14,\n",
       " 'vicinity': 0.14,\n",
       " 'Sri': 0.14,\n",
       " 'Lanka': 0.14,\n",
       " 'Maldives': 0.14,\n",
       " 'Andaman': 0.14,\n",
       " 'Nicobar': 0.14,\n",
       " 'Islands': 0.14,\n",
       " 'share': 0.14,\n",
       " 'maritime': 0.14,\n",
       " 'border': 0.14,\n",
       " 'Thailand': 0.14,\n",
       " 'Indonesia': 0.14,\n",
       " '\\n\\n': 0.14,\n",
       " 'Modern': 0.14,\n",
       " 'humans': 0.14,\n",
       " 'arrived': 0.14,\n",
       " 'subcontinent': 0.29,\n",
       " 'Africa': 0.29,\n",
       " 'later': 0.14,\n",
       " '55,000': 0.14,\n",
       " 'years': 0.29,\n",
       " 'ago': 0.29,\n",
       " 'long': 0.14,\n",
       " 'occupation': 0.14,\n",
       " 'initially': 0.14,\n",
       " 'varying': 0.14,\n",
       " 'forms': 0.14,\n",
       " 'isolation': 0.14,\n",
       " 'hunter': 0.14,\n",
       " 'gatherers': 0.14,\n",
       " 'region': 0.14,\n",
       " 'highly': 0.14,\n",
       " 'diverse': 0.14,\n",
       " 'second': 0.14,\n",
       " 'human': 0.14,\n",
       " 'genetic': 0.14,\n",
       " 'diversity': 0.14,\n",
       " 'Settled': 0.14,\n",
       " 'life': 0.14,\n",
       " 'emerged': 0.29,\n",
       " 'western': 0.29,\n",
       " 'margins': 0.14,\n",
       " 'Indus': 0.29,\n",
       " 'river': 0.14,\n",
       " 'basin': 0.14,\n",
       " '9,000': 0.14,\n",
       " 'evolving': 0.14,\n",
       " 'gradually': 0.14,\n",
       " 'Valley': 0.14,\n",
       " 'Civilisation': 0.14,\n",
       " 'millennium': 0.14,\n",
       " 'BCE': 0.43,\n",
       " '1200': 0.14,\n",
       " 'archaic': 0.14,\n",
       " 'form': 0.14,\n",
       " 'Sanskrit': 0.14,\n",
       " 'Indo': 0.14,\n",
       " 'European': 0.14,\n",
       " 'language': 0.14,\n",
       " 'diffused': 0.14,\n",
       " 'northwest': 0.14,\n",
       " 'evidence': 0.14,\n",
       " 'today': 0.14,\n",
       " 'found': 0.14,\n",
       " 'hymns': 0.14,\n",
       " 'Rigveda': 0.29,\n",
       " 'Preserved': 0.14,\n",
       " 'oral': 0.14,\n",
       " 'tradition': 0.14,\n",
       " 'resolutely': 0.14,\n",
       " 'vigilant': 0.14,\n",
       " 'records': 0.14,\n",
       " 'dawning': 0.14,\n",
       " 'Hinduism': 0.29,\n",
       " 'Dravidian': 0.29,\n",
       " 'languages': 0.29,\n",
       " 'supplanted': 0.14,\n",
       " 'northern': 0.14,\n",
       " 'regions': 0.14,\n",
       " '400': 0.14,\n",
       " 'stratification': 0.14,\n",
       " 'exclusion': 0.14,\n",
       " 'caste': 0.14,\n",
       " 'Buddhism': 0.14,\n",
       " 'Jainism': 0.14,\n",
       " 'arisen': 0.14,\n",
       " 'proclaiming': 0.14,\n",
       " 'social': 0.14,\n",
       " 'orders': 0.14,\n",
       " 'unlinked': 0.14,\n",
       " 'heredity': 0.14,\n",
       " 'Early': 0.14,\n",
       " 'political': 0.14,\n",
       " 'consolidations': 0.14,\n",
       " 'gave': 0.14,\n",
       " 'rise': 0.14,\n",
       " 'loose': 0.14,\n",
       " 'knit': 0.14,\n",
       " 'Maurya': 0.14,\n",
       " 'Gupta': 0.14,\n",
       " 'Empires': 0.14,\n",
       " 'based': 0.14,\n",
       " 'Ganges': 0.14,\n",
       " 'Basin': 0.14,\n",
       " 'collective': 0.14,\n",
       " 'era': 0.14,\n",
       " 'suffused': 0.14,\n",
       " 'wide': 0.14,\n",
       " 'ranging': 0.14,\n",
       " 'creativity': 0.14,\n",
       " 'marked': 0.14,\n",
       " 'declining': 0.14,\n",
       " 'status': 0.14,\n",
       " 'women': 0.14,\n",
       " 'incorporation': 0.14,\n",
       " 'untouchability': 0.14,\n",
       " 'organised': 0.14,\n",
       " 'system': 0.14,\n",
       " 'belief': 0.14,\n",
       " 'Middle': 0.14,\n",
       " 'kingdoms': 0.29,\n",
       " 'exported': 0.14,\n",
       " 'scripts': 0.14,\n",
       " 'religious': 0.14,\n",
       " 'cultures': 0.14,\n",
       " 'Southeast': 0.14}"
      ]
     },
     "execution_count": 71,
     "metadata": {},
     "output_type": "execute_result"
    }
   ],
   "source": [
    "word_frequencies"
   ]
  },
  {
   "cell_type": "code",
   "execution_count": 73,
   "metadata": {},
   "outputs": [],
   "source": [
    "sentence_tokens = [sent for sent in doc.sents]"
   ]
  },
  {
   "cell_type": "code",
   "execution_count": 77,
   "metadata": {},
   "outputs": [],
   "source": [
    "sentence_scores = {}\n",
    "\n",
    "for sent in sentence_tokens:\n",
    "    for word in sent:\n",
    "        if word.text.lower() in word_frequencies.keys():\n",
    "            if sent not in sentence_scores.keys():\n",
    "                sentence_scores[sent] = word_frequencies[word.text.lower()]\n",
    "            else:\n",
    "                sentence_scores[sent] += word_frequencies[word.text.lower()]"
   ]
  },
  {
   "cell_type": "code",
   "execution_count": 79,
   "metadata": {},
   "outputs": [],
   "source": [
    "from heapq import nlargest"
   ]
  },
  {
   "cell_type": "code",
   "execution_count": 82,
   "metadata": {},
   "outputs": [
    {
     "data": {
      "text/plain": [
       "4"
      ]
     },
     "execution_count": 82,
     "metadata": {},
     "output_type": "execute_result"
    }
   ],
   "source": [
    "#Selecting 30% of total sentences\n",
    "select_length = round(int(len(sentence_tokens)) * 0.3)\n",
    "select_length"
   ]
  },
  {
   "cell_type": "code",
   "execution_count": 85,
   "metadata": {},
   "outputs": [],
   "source": [
    "summary = nlargest(select_length, sentence_scores, key = sentence_scores.get)"
   ]
  },
  {
   "cell_type": "code",
   "execution_count": 88,
   "metadata": {},
   "outputs": [],
   "source": [
    "final_summary = [word.text for word in summary]"
   ]
  },
  {
   "cell_type": "code",
   "execution_count": 89,
   "metadata": {},
   "outputs": [],
   "source": [
    "summary = ' '.join(final_summary)"
   ]
  },
  {
   "cell_type": "code",
   "execution_count": 91,
   "metadata": {},
   "outputs": [
    {
     "name": "stdout",
     "output_type": "stream",
     "text": [
      "It is the seventh-largest country by area; the most populous country as of June 2023;and from the time of its independence in 1947, the world's most populous democracy. Settled life emerged on the subcontinent in the western margins of the Indus river basin 9,000 years ago, evolving gradually into the Indus Valley Civilisation of the third millennium BCE. Their long occupation, initially in varying forms of isolation as hunter-gatherers, has made the region highly diverse, second only to Africa in human genetic diversity. Their collective era was suffused with wide-ranging creativity,but also marked by the declining status of women, and the incorporation of untouchability into an organised system of belief.\n"
     ]
    }
   ],
   "source": [
    "print(summary)"
   ]
  },
  {
   "cell_type": "markdown",
   "metadata": {},
   "source": [
    "#### Using TDIDF \n",
    "\n",
    "Reference - https://towardsdatascience.com/text-summarization-using-tf-idf-e64a0644ace3\n",
    "\n",
    "A High weight in TF-IDF is reached by a high term frequency(in the given document) and a low document frequency of the term in the whole collection of documents. <br>\n",
    "\n",
    "TF-IDF algorithm is made of 2 algorithms multiplied together.\n",
    "\n",
    "Term Frequency\n",
    "Term frequency (TF) is how often a word appears in a document, divided by how many words there are.\n",
    "\n",
    "TF(t) = (Number of times term t appears in a document) / (Total number of terms in the document)\n",
    "\n",
    "Inverse document frequency\n",
    "Term frequency is how common a word is, inverse document frequency (IDF) is how unique or rare a word is.\n",
    "\n",
    "IDF(t) = log_e(Total number of documents / Number of documents with term t in it)\n",
    "\n",
    "<br>\n",
    "<br>\n",
    "Example,\n",
    "Consider a document containing 100 words wherein the word apple appears 5 times. The term frequency (i.e., TF) for apple is then (5 / 100) = 0.05.\n",
    "\n",
    "Now, assume we have 10 million documents and the word apple appears in one thousand of these. Then, the inverse document frequency (i.e., IDF) is calculated as log(10,000,000 / 1,000) = 4.\n",
    "\n",
    "Thus, the TF-IDF weight is the product of these quantities: 0.05 * 4 = 0.20."
   ]
  },
  {
   "cell_type": "code",
   "execution_count": 48,
   "metadata": {},
   "outputs": [],
   "source": [
    "text = \"\"\"\n",
    "India, officially the Republic of India is a country in South Asia. It is the seventh-largest country by area; the most populous country as of June 2023;and from the time of its independence in 1947, the world's most populous democracy. Bounded by the Indian Ocean on the south, the Arabian Sea on the southwest, and the Bay of Bengal on the southeast, it shares land borders with Pakistan to the west;j China, Nepal, and Bhutan to the north; and Bangladesh and Myanmar to the east. In the Indian Ocean, India is in the vicinity of Sri Lanka and the Maldives; its Andaman and Nicobar Islands share a maritime border with Thailand, Myanmar, and Indonesia.\n",
    "\n",
    "Modern humans arrived on the Indian subcontinent from Africa no later than 55,000 years ago.Their long occupation, initially in varying forms of isolation as hunter-gatherers, has made the region highly diverse, second only to Africa in human genetic diversity.Settled life emerged on the subcontinent in the western margins of the Indus river basin 9,000 years ago, evolving gradually into the Indus Valley Civilisation of the third millennium BCE. By 1200 BCE, an archaic form of Sanskrit, an Indo-European language, had diffused into India from the northwest. Its evidence today is found in the hymns of the Rigveda. Preserved by an oral tradition that was resolutely vigilant, the Rigveda records the dawning of Hinduism in India. The Dravidian languages of India were supplanted in the northern and western regions. By 400 BCE, stratification and exclusion by caste had emerged within Hinduism, and Buddhism and Jainism had arisen, proclaiming social orders unlinked to heredity. Early political consolidations gave rise to the loose-knit Maurya and Gupta Empires based in the Ganges Basin. Their collective era was suffused with wide-ranging creativity,but also marked by the declining status of women, and the incorporation of untouchability into an organised system of belief. In South India, the Middle kingdoms exported Dravidian-languages scripts and religious cultures to the kingdoms of Southeast Asia.\n",
    "\"\"\""
   ]
  },
  {
   "cell_type": "code",
   "execution_count": 66,
   "metadata": {},
   "outputs": [],
   "source": [
    "from nltk import sent_tokenize, word_tokenize\n",
    "from nltk.stem import PorterStemmer\n",
    "from nltk.corpus import stopwords\n",
    "import math"
   ]
  },
  {
   "cell_type": "code",
   "execution_count": 115,
   "metadata": {},
   "outputs": [],
   "source": [
    "sentences = sent_tokenize(text)\n",
    "total_documents = len(sentences)"
   ]
  },
  {
   "cell_type": "code",
   "execution_count": 52,
   "metadata": {},
   "outputs": [],
   "source": [
    "def _create_frequency_matrix(sentences):\n",
    "    frequency_matrix = {}\n",
    "    stopWords = set(stopwords.words(\"english\"))\n",
    "    ps = PorterStemmer()\n",
    "\n",
    "    for sent in sentences:\n",
    "        freq_table = {}\n",
    "        words = word_tokenize(sent)\n",
    "        for word in words:\n",
    "            word = word.lower()\n",
    "            word = ps.stem(word)\n",
    "            if word in stopWords:\n",
    "                continue\n",
    "            \n",
    "            if word in freq_table:\n",
    "                freq_table[word] += 1\n",
    "            else:\n",
    "                freq_table[word] = 1\n",
    "\n",
    "        frequency_matrix[sent[:15]] = freq_table\n",
    "        \n",
    "    return frequency_matrix\n",
    "\n"
   ]
  },
  {
   "cell_type": "code",
   "execution_count": 53,
   "metadata": {},
   "outputs": [],
   "source": [
    "freq_matrix = _create_frequency_matrix(sentences)"
   ]
  },
  {
   "cell_type": "code",
   "execution_count": 56,
   "metadata": {},
   "outputs": [],
   "source": [
    "def _create_tf_matrix(freq_matrix):\n",
    "    tf_matrix = {}\n",
    "\n",
    "    for sent, f_table in freq_matrix.items():\n",
    "        tf_table = {}\n",
    "\n",
    "        count_words_in_sentence = len(f_table)\n",
    "        for word, count in f_table.items():\n",
    "            tf_table[word] = count / count_words_in_sentence\n",
    "\n",
    "\n",
    "        tf_matrix[sent] = tf_table\n",
    "\n",
    "    return tf_matrix"
   ]
  },
  {
   "cell_type": "code",
   "execution_count": 57,
   "metadata": {},
   "outputs": [],
   "source": [
    "tf_matrix = _create_tf_matrix(freq_matrix)"
   ]
  },
  {
   "cell_type": "code",
   "execution_count": 60,
   "metadata": {},
   "outputs": [],
   "source": [
    "def _create_documents_per_words(freq_matrix):\n",
    "    word_per_doc_table = {}\n",
    "\n",
    "    for sent, f_table in freq_matrix.items():\n",
    "        for word, count in f_table.items():\n",
    "            if word in word_per_doc_table:\n",
    "                word_per_doc_table[word] += 1\n",
    "            else:\n",
    "                word_per_doc_table[word] = 1\n",
    "\n",
    "\n",
    "    return word_per_doc_table\n"
   ]
  },
  {
   "cell_type": "code",
   "execution_count": 62,
   "metadata": {},
   "outputs": [],
   "source": [
    "word_per_doc_table = _create_documents_per_words(tf_matrix)"
   ]
  },
  {
   "cell_type": "code",
   "execution_count": 63,
   "metadata": {},
   "outputs": [
    {
     "data": {
      "text/plain": [
       "{'india': 6,\n",
       " ',': 10,\n",
       " 'offici': 1,\n",
       " 'republ': 1,\n",
       " 'countri': 2,\n",
       " 'south': 3,\n",
       " 'asia': 2,\n",
       " '.': 13,\n",
       " 'seventh-largest': 1,\n",
       " 'area': 1,\n",
       " ';': 3,\n",
       " 'popul': 1,\n",
       " 'june': 1,\n",
       " '2023': 1,\n",
       " 'time': 1,\n",
       " 'independ': 1,\n",
       " '1947': 1,\n",
       " 'world': 1,\n",
       " \"'s\": 1,\n",
       " 'democraci': 1,\n",
       " 'bound': 1,\n",
       " 'indian': 3,\n",
       " 'ocean': 2,\n",
       " 'arabian': 1,\n",
       " 'sea': 1,\n",
       " 'southwest': 1,\n",
       " 'bay': 1,\n",
       " 'bengal': 1,\n",
       " 'southeast': 2,\n",
       " 'share': 2,\n",
       " 'land': 1,\n",
       " 'border': 2,\n",
       " 'pakistan': 1,\n",
       " 'west': 1,\n",
       " 'j': 1,\n",
       " 'china': 1,\n",
       " 'nepal': 1,\n",
       " 'bhutan': 1,\n",
       " 'north': 1,\n",
       " 'bangladesh': 1,\n",
       " 'myanmar': 2,\n",
       " 'east': 1,\n",
       " 'vicin': 1,\n",
       " 'sri': 1,\n",
       " 'lanka': 1,\n",
       " 'maldiv': 1,\n",
       " 'andaman': 1,\n",
       " 'nicobar': 1,\n",
       " 'island': 1,\n",
       " 'maritim': 1,\n",
       " 'thailand': 1,\n",
       " 'indonesia': 1,\n",
       " 'modern': 1,\n",
       " 'human': 1,\n",
       " 'arriv': 1,\n",
       " 'subcontin': 1,\n",
       " 'africa': 1,\n",
       " 'later': 1,\n",
       " '55,000': 1,\n",
       " 'year': 1,\n",
       " 'ago.their': 1,\n",
       " 'long': 1,\n",
       " 'occup': 1,\n",
       " 'initi': 1,\n",
       " 'vari': 1,\n",
       " 'form': 2,\n",
       " 'isol': 1,\n",
       " 'hunter-gather': 1,\n",
       " 'ha': 1,\n",
       " 'made': 1,\n",
       " 'region': 2,\n",
       " 'highli': 1,\n",
       " 'divers': 1,\n",
       " 'second': 1,\n",
       " 'onli': 1,\n",
       " 'genet': 1,\n",
       " 'diversity.settl': 1,\n",
       " 'life': 1,\n",
       " 'emerg': 2,\n",
       " 'western': 2,\n",
       " 'margin': 1,\n",
       " 'indu': 1,\n",
       " 'river': 1,\n",
       " 'basin': 2,\n",
       " '9,000': 1,\n",
       " 'ago': 1,\n",
       " 'evolv': 1,\n",
       " 'gradual': 1,\n",
       " 'valley': 1,\n",
       " 'civilis': 1,\n",
       " 'third': 1,\n",
       " 'millennium': 1,\n",
       " 'bce': 3,\n",
       " '1200': 1,\n",
       " 'archaic': 1,\n",
       " 'sanskrit': 1,\n",
       " 'indo-european': 1,\n",
       " 'languag': 2,\n",
       " 'diffus': 1,\n",
       " 'northwest': 1,\n",
       " 'evid': 1,\n",
       " 'today': 1,\n",
       " 'found': 1,\n",
       " 'hymn': 1,\n",
       " 'rigveda': 2,\n",
       " 'preserv': 1,\n",
       " 'oral': 1,\n",
       " 'tradit': 1,\n",
       " 'wa': 2,\n",
       " 'resolut': 1,\n",
       " 'vigil': 1,\n",
       " 'record': 1,\n",
       " 'dawn': 1,\n",
       " 'hinduism': 2,\n",
       " 'dravidian': 1,\n",
       " 'supplant': 1,\n",
       " 'northern': 1,\n",
       " '400': 1,\n",
       " 'stratif': 1,\n",
       " 'exclus': 1,\n",
       " 'cast': 1,\n",
       " 'within': 1,\n",
       " 'buddhism': 1,\n",
       " 'jainism': 1,\n",
       " 'arisen': 1,\n",
       " 'proclaim': 1,\n",
       " 'social': 1,\n",
       " 'order': 1,\n",
       " 'unlink': 1,\n",
       " 'hered': 1,\n",
       " 'earli': 1,\n",
       " 'polit': 1,\n",
       " 'consolid': 1,\n",
       " 'gave': 1,\n",
       " 'rise': 1,\n",
       " 'loose-knit': 1,\n",
       " 'maurya': 1,\n",
       " 'gupta': 1,\n",
       " 'empir': 1,\n",
       " 'base': 1,\n",
       " 'gang': 1,\n",
       " 'collect': 1,\n",
       " 'era': 1,\n",
       " 'suffus': 1,\n",
       " 'wide-rang': 1,\n",
       " 'creativ': 1,\n",
       " 'also': 1,\n",
       " 'mark': 1,\n",
       " 'declin': 1,\n",
       " 'statu': 1,\n",
       " 'women': 1,\n",
       " 'incorpor': 1,\n",
       " 'untouch': 1,\n",
       " 'organis': 1,\n",
       " 'system': 1,\n",
       " 'belief': 1,\n",
       " 'middl': 1,\n",
       " 'kingdom': 1,\n",
       " 'export': 1,\n",
       " 'dravidian-languag': 1,\n",
       " 'script': 1,\n",
       " 'religi': 1,\n",
       " 'cultur': 1}"
      ]
     },
     "execution_count": 63,
     "metadata": {},
     "output_type": "execute_result"
    }
   ],
   "source": [
    "word_per_doc_table"
   ]
  },
  {
   "cell_type": "code",
   "execution_count": 68,
   "metadata": {},
   "outputs": [],
   "source": [
    "def _create_idf_matrix(freq_matrix, count_docs_per_word, total_documents):\n",
    "    idf_matrix = {}\n",
    "\n",
    "    for sent, f_table in freq_matrix.items():\n",
    "        idf_table = {}\n",
    "\n",
    "        for word in f_table.keys():\n",
    "            idf_table[word] = math.log10(total_documents / float(count_docs_per_word[word]))\n",
    "\n",
    "        idf_matrix[sent] = idf_table\n",
    "\n",
    "    return idf_matrix\n"
   ]
  },
  {
   "cell_type": "code",
   "execution_count": 69,
   "metadata": {},
   "outputs": [],
   "source": [
    "idf_matrix = _create_idf_matrix(freq_matrix, word_per_doc_table, total_documents)"
   ]
  },
  {
   "cell_type": "code",
   "execution_count": 121,
   "metadata": {},
   "outputs": [],
   "source": [
    "def _create_tf_idf_matrix(tf_matrix, idf_matrix):\n",
    "    tf_idf_matrix = {}\n",
    "\n",
    "    for (sent1, f_table1), (sent2, f_table2) in zip(tf_matrix.items(), idf_matrix.items()):\n",
    "\n",
    "        tf_idf_table = {}\n",
    "\n",
    "        for (word1, value1), (word2, value2) in zip(f_table1.items(),\n",
    "                                                    f_table2.items()):\n",
    "            tf_idf_table[word1] = float(value1 * value2)\n",
    "\n",
    "        tf_idf_matrix[sent1] = tf_idf_table\n",
    "\n",
    "    return tf_idf_matrix"
   ]
  },
  {
   "cell_type": "code",
   "execution_count": 122,
   "metadata": {},
   "outputs": [],
   "source": [
    "def _score_sentences(tf_idf_matrix):\n",
    "    sentenceValue = {}\n",
    "\n",
    "    for sent, f_table in tf_idf_matrix.items():\n",
    "        total_score_per_sentence = 0\n",
    "\n",
    "        count_words_in_sentence = len(f_table)\n",
    "        \n",
    "        for word, score in f_table.items():\n",
    "            total_score_per_sentence += score\n",
    "\n",
    "        sentenceValue[sent] = total_score_per_sentence / count_words_in_sentence\n",
    "\n",
    "    return sentenceValue"
   ]
  },
  {
   "cell_type": "code",
   "execution_count": 123,
   "metadata": {},
   "outputs": [],
   "source": [
    "sentenceValue = _score_sentences(idf_matrix)"
   ]
  },
  {
   "cell_type": "code",
   "execution_count": 124,
   "metadata": {},
   "outputs": [],
   "source": [
    "def _find_average_score(sentenceValue):\n",
    "    sumValue = 0\n",
    "\n",
    "    for entry in sentenceValue:\n",
    "        sumValue += sentenceValue[entry]\n",
    "\n",
    "    average = sumValue / len(sentenceValue)\n",
    "\n",
    "\n",
    "    return average"
   ]
  },
  {
   "cell_type": "code",
   "execution_count": 125,
   "metadata": {},
   "outputs": [],
   "source": [
    "average = _find_average_score(sentenceValue)"
   ]
  },
  {
   "cell_type": "code",
   "execution_count": 130,
   "metadata": {},
   "outputs": [],
   "source": [
    "def _generate_summary(sentences, sentenceValue, threshold):\n",
    "    sentence_count = 0\n",
    "    summary = ''\n",
    "\n",
    "    for sentence in sentences:\n",
    "        if sentence[:15] in sentenceValue and sentenceValue[sentence[:15]] >= (threshold):\n",
    "            summary += \"\\n\" + sentence\n",
    "            sentence_count += 1\n",
    "\n",
    "    return summary"
   ]
  },
  {
   "cell_type": "code",
   "execution_count": 131,
   "metadata": {},
   "outputs": [],
   "source": [
    "summary = _generate_summary(sentences, sentenceValue, average)"
   ]
  },
  {
   "cell_type": "code",
   "execution_count": 132,
   "metadata": {},
   "outputs": [
    {
     "name": "stdout",
     "output_type": "stream",
     "text": [
      "\n",
      "It is the seventh-largest country by area; the most populous country as of June 2023;and from the time of its independence in 1947, the world's most populous democracy.\n",
      "Bounded by the Indian Ocean on the south, the Arabian Sea on the southwest, and the Bay of Bengal on the southeast, it shares land borders with Pakistan to the west;j China, Nepal, and Bhutan to the north; and Bangladesh and Myanmar to the east.\n",
      "Modern humans arrived on the Indian subcontinent from Africa no later than 55,000 years ago.Their long occupation, initially in varying forms of isolation as hunter-gatherers, has made the region highly diverse, second only to Africa in human genetic diversity.Settled life emerged on the subcontinent in the western margins of the Indus river basin 9,000 years ago, evolving gradually into the Indus Valley Civilisation of the third millennium BCE.\n",
      "Its evidence today is found in the hymns of the Rigveda.\n",
      "By 400 BCE, stratification and exclusion by caste had emerged within Hinduism, and Buddhism and Jainism had arisen, proclaiming social orders unlinked to heredity.\n",
      "Early political consolidations gave rise to the loose-knit Maurya and Gupta Empires based in the Ganges Basin.\n",
      "Their collective era was suffused with wide-ranging creativity,but also marked by the declining status of women, and the incorporation of untouchability into an organised system of belief.\n"
     ]
    }
   ],
   "source": [
    "print(summary)"
   ]
  },
  {
   "cell_type": "markdown",
   "metadata": {},
   "source": [
    "### Keeping everything together"
   ]
  },
  {
   "cell_type": "code",
   "execution_count": 129,
   "metadata": {},
   "outputs": [
    {
     "name": "stdout",
     "output_type": "stream",
     "text": [
      "\n",
      " \n",
      "India, officially the Republic of India is a country in South Asia.\n",
      " It is the seventh-largest country by area; the most populous country as of June 2023;and from the time of its independence in 1947, the world's most populous democracy.\n",
      " Its evidence today is found in the hymns of the Rigveda.\n",
      " The Dravidian languages of India were supplanted in the northern and western regions.\n",
      " Early political consolidations gave rise to the loose-knit Maurya and Gupta Empires based in the Ganges Basin.\n",
      " In South India, the Middle kingdoms exported Dravidian-languages scripts and religious cultures to the kingdoms of Southeast Asia.\n"
     ]
    }
   ],
   "source": [
    "import math\n",
    "\n",
    "from nltk import sent_tokenize, word_tokenize, PorterStemmer\n",
    "from nltk.corpus import stopwords    \n",
    "    \n",
    "'''\n",
    "We already have a sentence tokenizer, so we just need \n",
    "to run the sent_tokenize() method to create the array of sentences.\n",
    "'''\n",
    "# 1 Sentence Tokenize\n",
    "sentences = sent_tokenize(text)\n",
    "total_documents = len(sentences)\n",
    "#print(sentences)\n",
    "\n",
    "# 2 Create the Frequency matrix of the words in each sentence.\n",
    "freq_matrix = _create_frequency_matrix(sentences)\n",
    "#print(freq_matrix)\n",
    "\n",
    "'''\n",
    "Term frequency (TF) is how often a word appears in a document, divided by how many words are there in a document.\n",
    "'''\n",
    "# 3 Calculate TermFrequency and generate a matrix\n",
    "tf_matrix = _create_tf_matrix(freq_matrix)\n",
    "#print(tf_matrix)\n",
    "\n",
    "# 4 creating table for documents per words\n",
    "count_doc_per_words = _create_documents_per_words(freq_matrix)\n",
    "#print(count_doc_per_words)\n",
    "\n",
    "'''\n",
    "Inverse document frequency (IDF) is how unique or rare a word is.\n",
    "'''\n",
    "# 5 Calculate IDF and generate a matrix\n",
    "idf_matrix = _create_idf_matrix(freq_matrix, count_doc_per_words, total_documents)\n",
    "#print(idf_matrix)\n",
    "\n",
    "# 6 Calculate TF-IDF and generate a matrix\n",
    "tf_idf_matrix = _create_tf_idf_matrix(tf_matrix, idf_matrix)\n",
    "#print(tf_idf_matrix)\n",
    "\n",
    "# 7 Important Algorithm: score the sentences\n",
    "sentence_scores = _score_sentences(tf_idf_matrix)\n",
    "#print(sentence_scores)\n",
    "\n",
    "# 8 Find the threshold\n",
    "threshold = _find_average_score(sentence_scores)\n",
    "#print(threshold)\n",
    "\n",
    "# 9 Important Algorithm: Generate the summary\n",
    "summary = _generate_summary(sentences, sentence_scores, threshold)\n",
    "\n",
    "print(summary)"
   ]
  },
  {
   "cell_type": "code",
   "execution_count": null,
   "metadata": {},
   "outputs": [],
   "source": []
  }
 ],
 "metadata": {
  "kernelspec": {
   "display_name": "textsummarization",
   "language": "python",
   "name": "python3"
  },
  "language_info": {
   "codemirror_mode": {
    "name": "ipython",
    "version": 3
   },
   "file_extension": ".py",
   "mimetype": "text/x-python",
   "name": "python",
   "nbconvert_exporter": "python",
   "pygments_lexer": "ipython3",
   "version": "3.10.13"
  }
 },
 "nbformat": 4,
 "nbformat_minor": 2
}
